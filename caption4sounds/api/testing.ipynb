{
 "cells": [
  {
   "cell_type": "code",
   "execution_count": 1,
   "metadata": {},
   "outputs": [],
   "source": [
    "# from __future__ import unicode_literals\n",
    "# import youtube_dl\n",
    "\n",
    "# class MyLogger(object):\n",
    "#     def debug(self, msg):\n",
    "#         pass\n",
    "#     def warning(self, msg):\n",
    "#         print(msg)\n",
    "# \t# pass\n",
    "#     def error(self, msg):\n",
    "#         print(msg)"
   ]
  },
  {
   "cell_type": "code",
   "execution_count": 1,
   "metadata": {},
   "outputs": [],
   "source": [
    "def finished_hook(d):\n",
    "    if d['status'] == 'finished':\n",
    "        print(f'Done downloading {d[\"filename\"]}, now loading and predicting ...')\n",
    "\n",
    "# def yt_audio_dl(video_id, folderpath, callback_fn):\n",
    "#     ydl_opts = {\n",
    "#         'outtmpl': folderpath+'%(id)s.%(ext)s',\n",
    "#         'format': 'worstaudio/worst',\n",
    "# #         'postprocessors': [{\n",
    "# #             'key': 'FFmpegExtractAudio',\n",
    "# #             'preferredcodec': 'mp3',\n",
    "# #             'preferredquality': '192',\n",
    "# #         }],\n",
    "#         'logger': MyLogger(),\n",
    "#         'progress_hooks': [callback_fn],\n",
    "#     }\n",
    "#     with youtube_dl.YoutubeDL(ydl_opts) as ydl:\n",
    "#         ydl.download([video_id])"
   ]
  },
  {
   "cell_type": "code",
   "execution_count": 1,
   "metadata": {},
   "outputs": [],
   "source": [
    "from api.ytdl import yt_audio_dl"
   ]
  },
  {
   "cell_type": "code",
   "execution_count": 2,
   "metadata": {},
   "outputs": [
    {
     "name": "stdout",
     "output_type": "stream",
     "text": [
      "Done downloading api/8azcah4Y6nk.webm.\n",
      "Now loading and predicting ...\n"
     ]
    },
    {
     "data": {
      "text/plain": [
       "'api/8azcah4Y6nk.webm'"
      ]
     },
     "execution_count": 2,
     "metadata": {},
     "output_type": "execute_result"
    }
   ],
   "source": [
    "yt_audio_dl('8azcah4Y6nk', 'api/')"
   ]
  },
  {
   "cell_type": "code",
   "execution_count": null,
   "metadata": {},
   "outputs": [],
   "source": []
  }
 ],
 "metadata": {
  "kernelspec": {
   "display_name": "envMgt",
   "language": "python",
   "name": "envmgt"
  },
  "language_info": {
   "codemirror_mode": {
    "name": "ipython",
    "version": 3
   },
   "file_extension": ".py",
   "mimetype": "text/x-python",
   "name": "python",
   "nbconvert_exporter": "python",
   "pygments_lexer": "ipython3",
   "version": "3.6.8"
  }
 },
 "nbformat": 4,
 "nbformat_minor": 2
}
